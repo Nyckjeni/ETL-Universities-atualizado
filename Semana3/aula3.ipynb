{
 "cells": [
  {
   "cell_type": "markdown",
   "id": "1f60f9ff",
   "metadata": {},
   "source": [
    "# PARTE I"
   ]
  },
  {
   "cell_type": "code",
   "execution_count": null,
   "id": "402fb22d",
   "metadata": {},
   "outputs": [],
   "source": [
    "import requests\n",
    "\n",
    "\n",
    "url = f\"https://drive.google.com/uc?export=download&id=1kcH4xji_A1_FCgHoDOf6eu9EYcX0blyP\"\n",
    "\n",
    "db_filename = \"chinook.db\"\n",
    "\n",
    "try:\n",
    "    response = requests.get(url, stream=True)\n",
    "    response.raise_for_status()  \n",
    "\n",
    "    with open(db_filename, 'wb') as f:\n",
    "        f.write(response.content)\n",
    "\n",
    "except requests.RequestException as e:\n",
    "    print(f\"Erro ao baixar o arquivo: {e}\")\n",
    "except Exception as e:\n",
    "    print(f\"Ocorreu um erro: {e}\")"
   ]
  },
  {
   "cell_type": "markdown",
   "id": "d14347b9",
   "metadata": {},
   "source": [
    "# PARTE II"
   ]
  },
  {
   "cell_type": "code",
   "execution_count": null,
   "id": "4999504f",
   "metadata": {},
   "outputs": [],
   "source": [
    "import requests\n",
    "\n",
    "\n",
    "url = \"\"\n",
    "\n",
    "response = requests.get(url)\n",
    "response.raise_for_status()  \n",
    "universities = response.json()\n"
   ]
  }
 ],
 "metadata": {
  "kernelspec": {
   "display_name": ".venv",
   "language": "python",
   "name": "python3"
  },
  "language_info": {
   "codemirror_mode": {
    "name": "ipython",
    "version": 3
   },
   "file_extension": ".py",
   "mimetype": "text/x-python",
   "name": "python",
   "nbconvert_exporter": "python",
   "pygments_lexer": "ipython3",
   "version": "3.12.10"
  }
 },
 "nbformat": 4,
 "nbformat_minor": 5
}
