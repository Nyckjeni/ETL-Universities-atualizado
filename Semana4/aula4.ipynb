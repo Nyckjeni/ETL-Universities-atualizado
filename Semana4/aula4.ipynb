{
 "cells": [
  {
   "cell_type": "markdown",
   "id": "591beeab",
   "metadata": {},
   "source": [
    "## Na aula passada\n",
    "\n",
    "Desenvolvemos o seguinte código na aula passada"
   ]
  },
  {
   "cell_type": "code",
   "execution_count": 1,
   "id": "f4c38817",
   "metadata": {},
   "outputs": [],
   "source": [
    "import requests\n",
    "import sqlite3\n",
    "\n",
    "url = \"http://universities.hipolabs.com/search?country=Brazil\"\n",
    "\n",
    "# Acessando o link da internet\n",
    "response = requests.get(url)\n",
    "response.raise_for_status()  \n",
    "universities = response.json()\n",
    "\n",
    "\n",
    "# Criar o banco e se concectar nele\n",
    "con = sqlite3.connect(\"universidades.db\")\n",
    "c = con.cursor()\n",
    "\n",
    "# Criar a tabela no banco\n",
    "c.execute('''\n",
    "CREATE TABLE IF NOT EXISTS universities\n",
    "          (\n",
    "          id INTERGER PRIMARY KEY,\n",
    "          name TEXT,\n",
    "          country TEXT,\n",
    "          state_province TEXT,\n",
    "          web_pages TEXT,\n",
    "          domains TEXT\n",
    "          );\n",
    "''')\n",
    "\n",
    "for university in universities: \n",
    "    c.execute('''INSERT INTO universities (name, country, state_province, web_pages, domains) VALUES (?,?,?,?,?);''',\n",
    "              (university.get('name'), \n",
    "               university.get('country'), \n",
    "               university.get('state-province'), \n",
    "               ', '.join(university.get('web_pages', [])), \n",
    "               ', '.join(university.get('domains', []))))\n",
    "\n",
    "con.commit()\n",
    "con.close()"
   ]
  }
 ],
 "metadata": {
  "kernelspec": {
   "display_name": ".venv",
   "language": "python",
   "name": "python3"
  },
  "language_info": {
   "codemirror_mode": {
    "name": "ipython",
    "version": 3
   },
   "file_extension": ".py",
   "mimetype": "text/x-python",
   "name": "python",
   "nbconvert_exporter": "python",
   "pygments_lexer": "ipython3",
   "version": "3.12.10"
  }
 },
 "nbformat": 4,
 "nbformat_minor": 5
}
